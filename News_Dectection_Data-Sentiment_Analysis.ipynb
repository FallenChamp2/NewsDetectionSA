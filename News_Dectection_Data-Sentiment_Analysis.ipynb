{
 "cells": [
  {
   "cell_type": "code",
   "execution_count": 1,
   "metadata": {},
   "outputs": [
    {
     "data": {
      "text/html": [
       "<div>\n",
       "<style scoped>\n",
       "    .dataframe tbody tr th:only-of-type {\n",
       "        vertical-align: middle;\n",
       "    }\n",
       "\n",
       "    .dataframe tbody tr th {\n",
       "        vertical-align: top;\n",
       "    }\n",
       "\n",
       "    .dataframe thead th {\n",
       "        text-align: right;\n",
       "    }\n",
       "</style>\n",
       "<table border=\"1\" class=\"dataframe\">\n",
       "  <thead>\n",
       "    <tr style=\"text-align: right;\">\n",
       "      <th></th>\n",
       "      <th>title</th>\n",
       "      <th>text</th>\n",
       "      <th>subject</th>\n",
       "      <th>date</th>\n",
       "    </tr>\n",
       "  </thead>\n",
       "  <tbody>\n",
       "    <tr>\n",
       "      <th>0</th>\n",
       "      <td>Donald Trump Sends Out Embarrassing New Year’...</td>\n",
       "      <td>Donald Trump just couldn t wish all Americans ...</td>\n",
       "      <td>News</td>\n",
       "      <td>December 31, 2017</td>\n",
       "    </tr>\n",
       "    <tr>\n",
       "      <th>1</th>\n",
       "      <td>Drunk Bragging Trump Staffer Started Russian ...</td>\n",
       "      <td>House Intelligence Committee Chairman Devin Nu...</td>\n",
       "      <td>News</td>\n",
       "      <td>December 31, 2017</td>\n",
       "    </tr>\n",
       "    <tr>\n",
       "      <th>2</th>\n",
       "      <td>Sheriff David Clarke Becomes An Internet Joke...</td>\n",
       "      <td>On Friday, it was revealed that former Milwauk...</td>\n",
       "      <td>News</td>\n",
       "      <td>December 30, 2017</td>\n",
       "    </tr>\n",
       "    <tr>\n",
       "      <th>3</th>\n",
       "      <td>Trump Is So Obsessed He Even Has Obama’s Name...</td>\n",
       "      <td>On Christmas day, Donald Trump announced that ...</td>\n",
       "      <td>News</td>\n",
       "      <td>December 29, 2017</td>\n",
       "    </tr>\n",
       "    <tr>\n",
       "      <th>4</th>\n",
       "      <td>Pope Francis Just Called Out Donald Trump Dur...</td>\n",
       "      <td>Pope Francis used his annual Christmas Day mes...</td>\n",
       "      <td>News</td>\n",
       "      <td>December 25, 2017</td>\n",
       "    </tr>\n",
       "  </tbody>\n",
       "</table>\n",
       "</div>"
      ],
      "text/plain": [
       "                                               title  \\\n",
       "0   Donald Trump Sends Out Embarrassing New Year’...   \n",
       "1   Drunk Bragging Trump Staffer Started Russian ...   \n",
       "2   Sheriff David Clarke Becomes An Internet Joke...   \n",
       "3   Trump Is So Obsessed He Even Has Obama’s Name...   \n",
       "4   Pope Francis Just Called Out Donald Trump Dur...   \n",
       "\n",
       "                                                text subject  \\\n",
       "0  Donald Trump just couldn t wish all Americans ...    News   \n",
       "1  House Intelligence Committee Chairman Devin Nu...    News   \n",
       "2  On Friday, it was revealed that former Milwauk...    News   \n",
       "3  On Christmas day, Donald Trump announced that ...    News   \n",
       "4  Pope Francis used his annual Christmas Day mes...    News   \n",
       "\n",
       "                date  \n",
       "0  December 31, 2017  \n",
       "1  December 31, 2017  \n",
       "2  December 30, 2017  \n",
       "3  December 29, 2017  \n",
       "4  December 25, 2017  "
      ]
     },
     "execution_count": 1,
     "metadata": {},
     "output_type": "execute_result"
    }
   ],
   "source": [
    "import numpy as np\n",
    "import pandas as pd\n",
    "Fake = pd.read_csv('Fake.csv')\n",
    "Fake.head()"
   ]
  },
  {
   "cell_type": "code",
   "execution_count": 2,
   "metadata": {},
   "outputs": [
    {
     "data": {
      "text/html": [
       "<div>\n",
       "<style scoped>\n",
       "    .dataframe tbody tr th:only-of-type {\n",
       "        vertical-align: middle;\n",
       "    }\n",
       "\n",
       "    .dataframe tbody tr th {\n",
       "        vertical-align: top;\n",
       "    }\n",
       "\n",
       "    .dataframe thead th {\n",
       "        text-align: right;\n",
       "    }\n",
       "</style>\n",
       "<table border=\"1\" class=\"dataframe\">\n",
       "  <thead>\n",
       "    <tr style=\"text-align: right;\">\n",
       "      <th></th>\n",
       "      <th>title</th>\n",
       "      <th>text</th>\n",
       "      <th>subject</th>\n",
       "      <th>date</th>\n",
       "    </tr>\n",
       "  </thead>\n",
       "  <tbody>\n",
       "    <tr>\n",
       "      <th>0</th>\n",
       "      <td>As U.S. budget fight looms, Republicans flip t...</td>\n",
       "      <td>WASHINGTON (Reuters) - The head of a conservat...</td>\n",
       "      <td>politicsNews</td>\n",
       "      <td>December 31, 2017</td>\n",
       "    </tr>\n",
       "    <tr>\n",
       "      <th>1</th>\n",
       "      <td>U.S. military to accept transgender recruits o...</td>\n",
       "      <td>WASHINGTON (Reuters) - Transgender people will...</td>\n",
       "      <td>politicsNews</td>\n",
       "      <td>December 29, 2017</td>\n",
       "    </tr>\n",
       "    <tr>\n",
       "      <th>2</th>\n",
       "      <td>Senior U.S. Republican senator: 'Let Mr. Muell...</td>\n",
       "      <td>WASHINGTON (Reuters) - The special counsel inv...</td>\n",
       "      <td>politicsNews</td>\n",
       "      <td>December 31, 2017</td>\n",
       "    </tr>\n",
       "    <tr>\n",
       "      <th>3</th>\n",
       "      <td>FBI Russia probe helped by Australian diplomat...</td>\n",
       "      <td>WASHINGTON (Reuters) - Trump campaign adviser ...</td>\n",
       "      <td>politicsNews</td>\n",
       "      <td>December 30, 2017</td>\n",
       "    </tr>\n",
       "    <tr>\n",
       "      <th>4</th>\n",
       "      <td>Trump wants Postal Service to charge 'much mor...</td>\n",
       "      <td>SEATTLE/WASHINGTON (Reuters) - President Donal...</td>\n",
       "      <td>politicsNews</td>\n",
       "      <td>December 29, 2017</td>\n",
       "    </tr>\n",
       "  </tbody>\n",
       "</table>\n",
       "</div>"
      ],
      "text/plain": [
       "                                               title  \\\n",
       "0  As U.S. budget fight looms, Republicans flip t...   \n",
       "1  U.S. military to accept transgender recruits o...   \n",
       "2  Senior U.S. Republican senator: 'Let Mr. Muell...   \n",
       "3  FBI Russia probe helped by Australian diplomat...   \n",
       "4  Trump wants Postal Service to charge 'much mor...   \n",
       "\n",
       "                                                text       subject  \\\n",
       "0  WASHINGTON (Reuters) - The head of a conservat...  politicsNews   \n",
       "1  WASHINGTON (Reuters) - Transgender people will...  politicsNews   \n",
       "2  WASHINGTON (Reuters) - The special counsel inv...  politicsNews   \n",
       "3  WASHINGTON (Reuters) - Trump campaign adviser ...  politicsNews   \n",
       "4  SEATTLE/WASHINGTON (Reuters) - President Donal...  politicsNews   \n",
       "\n",
       "                 date  \n",
       "0  December 31, 2017   \n",
       "1  December 29, 2017   \n",
       "2  December 31, 2017   \n",
       "3  December 30, 2017   \n",
       "4  December 29, 2017   "
      ]
     },
     "execution_count": 2,
     "metadata": {},
     "output_type": "execute_result"
    }
   ],
   "source": [
    "Real = pd.read_csv('True.csv')\n",
    "Real.head()"
   ]
  },
  {
   "cell_type": "code",
   "execution_count": 3,
   "metadata": {},
   "outputs": [
    {
     "data": {
      "text/plain": [
       "((23481, 4), (21417, 4))"
      ]
     },
     "execution_count": 3,
     "metadata": {},
     "output_type": "execute_result"
    }
   ],
   "source": [
    "Fake.shape, Real.shape"
   ]
  },
  {
   "cell_type": "code",
   "execution_count": 4,
   "metadata": {},
   "outputs": [
    {
     "name": "stdout",
     "output_type": "stream",
     "text": [
      "Title : Senator Warren hits out at 'effort to politicize' U.S. consumer agency \n",
      "\n",
      "Article : \n",
      " WASHINGTON (Reuters) - Democratic Senator Elizabeth Warren is taking aim at budget chief Mick Mulvaney’s plan to fill the ranks of the U.S. consumer financial watchdog with political allies, according to letters seen by Reuters, the latest salvo in a broader battle over who should run the bureau. President Donald Trump last month appointed Mulvaney as acting director of the Consumer Financial Protection Bureau (CFPB), though the decision is being legally challenged by the agency’s deputy director, Leandra English, who says she is the rightful interim head. Mulvaney told reporters earlier this month he planned to bring in several political appointees to help overhaul the agency, but Warren warned in a pair of letters sent Monday to Mulvaney and the Office of Personnel Management (OPM), which oversees federal hiring, that doing so was inappropriate and potentially illegal. The CFPB is meant to be an independent agency staffed primarily by non-political employees. Hiring political appointees could violate civil service laws designed to protect such employees from undue political pressure and discrimination, Warren said. “Your naked effort to politicize the consumer agency runs counter to the agency’s mission to be an independent voice for consumers with the power to stand up to Wall Street banks,” Warren, who helped create the CFPB, wrote to Mulvaney. In a separate letter, Warren asked the OPM to review Mulvaney’s “unprecedented and unjustified” plans. In a third letter sent to Mulvaney and English, Warren asked for information about a review of ongoing enforcement actions at the CFPB. Reuters reported earlier this month that a potential multimillion-dollar settlement with Wells Fargo is among the enforcement actions under review amid the change in CFPB leadership. Spokespeople for Mulvaney and the OPM did not immediately respond to requests for comment. Mulvaney, who also serves directly under Trump as the head of his Office of Management and Budget (OMB), said in the long term he would like to see professional staff alongisde political appointees, mirroring an arrangement in place at the OMB.  “We will be staffing up with more permanent political people so the professional staff here have a better feel for where the administration wants to take the bureau,” Mulvaney said.  But Warren said such an arrangement, though understandable for bureaus like the OMB which sit directly beneath the White House, was not suitable for independent financial regulators. The leadership of the CFPB has been in question since the agency’s first director, Richard Cordray, resigned in November. \n"
     ]
    }
   ],
   "source": [
    "print('Title :', Real['title'][100], '\\n')\n",
    "print('Article : \\n', Real['text'][100])"
   ]
  },
  {
   "cell_type": "code",
   "execution_count": 5,
   "metadata": {},
   "outputs": [],
   "source": [
    "Real['is_real'] = 1\n",
    "Fake['is_real'] = 0"
   ]
  },
  {
   "cell_type": "code",
   "execution_count": 6,
   "metadata": {},
   "outputs": [
    {
     "data": {
      "text/html": [
       "<div>\n",
       "<style scoped>\n",
       "    .dataframe tbody tr th:only-of-type {\n",
       "        vertical-align: middle;\n",
       "    }\n",
       "\n",
       "    .dataframe tbody tr th {\n",
       "        vertical-align: top;\n",
       "    }\n",
       "\n",
       "    .dataframe thead th {\n",
       "        text-align: right;\n",
       "    }\n",
       "</style>\n",
       "<table border=\"1\" class=\"dataframe\">\n",
       "  <thead>\n",
       "    <tr style=\"text-align: right;\">\n",
       "      <th></th>\n",
       "      <th>title</th>\n",
       "      <th>text</th>\n",
       "      <th>subject</th>\n",
       "      <th>date</th>\n",
       "      <th>is_real</th>\n",
       "    </tr>\n",
       "  </thead>\n",
       "  <tbody>\n",
       "    <tr>\n",
       "      <th>41183</th>\n",
       "      <td>WHY ARE DEMOCRATS Willing To Put Women Working...</td>\n",
       "      <td>New Wikileaks email shows Bill Clinton wanted ...</td>\n",
       "      <td>left-news</td>\n",
       "      <td>Oct 21, 2016</td>\n",
       "      <td>0</td>\n",
       "    </tr>\n",
       "    <tr>\n",
       "      <th>20375</th>\n",
       "      <td>UK lawmakers back EU withdrawal bill at second...</td>\n",
       "      <td>LONDON (Reuters) - British lawmakers on Tuesda...</td>\n",
       "      <td>worldnews</td>\n",
       "      <td>September 11, 2017</td>\n",
       "      <td>1</td>\n",
       "    </tr>\n",
       "    <tr>\n",
       "      <th>40066</th>\n",
       "      <td>COMEY RESPONDS TO FIRING…What He Said Will Mak...</td>\n",
       "      <td>Since the moment word got out about the firing...</td>\n",
       "      <td>left-news</td>\n",
       "      <td>May 10, 2017</td>\n",
       "      <td>0</td>\n",
       "    </tr>\n",
       "    <tr>\n",
       "      <th>11407</th>\n",
       "      <td>Kazakhstan, Kyrgyzstan pledge to improve ties ...</td>\n",
       "      <td>ALMATY (Reuters) - The leaders of Kazakhstan a...</td>\n",
       "      <td>worldnews</td>\n",
       "      <td>December 25, 2017</td>\n",
       "      <td>1</td>\n",
       "    </tr>\n",
       "    <tr>\n",
       "      <th>34069</th>\n",
       "      <td>WOW! CATHOLIC PRIEST Delivers Message From Bis...</td>\n",
       "      <td>One Party Favors Open Borders, The Other Part...</td>\n",
       "      <td>politics</td>\n",
       "      <td>Oct 23, 2016</td>\n",
       "      <td>0</td>\n",
       "    </tr>\n",
       "    <tr>\n",
       "      <th>14410</th>\n",
       "      <td>Beijing orders safety checks after apartment b...</td>\n",
       "      <td>BEIJING (Reuters) - A fire in a Beijing apartm...</td>\n",
       "      <td>worldnews</td>\n",
       "      <td>November 20, 2017</td>\n",
       "      <td>1</td>\n",
       "    </tr>\n",
       "    <tr>\n",
       "      <th>22912</th>\n",
       "      <td>Lawyers Trump Used To ‘Prove’ He Has No Russi...</td>\n",
       "      <td>It was the tweet that blew up the internet:BRE...</td>\n",
       "      <td>News</td>\n",
       "      <td>May 12, 2017</td>\n",
       "      <td>0</td>\n",
       "    </tr>\n",
       "    <tr>\n",
       "      <th>34922</th>\n",
       "      <td>MILITARY COUP IN TURKEY: Obama Makes It Clear ...</td>\n",
       "      <td>Obama released a statement on his position reg...</td>\n",
       "      <td>politics</td>\n",
       "      <td>Jul 15, 2016</td>\n",
       "      <td>0</td>\n",
       "    </tr>\n",
       "    <tr>\n",
       "      <th>7639</th>\n",
       "      <td>Clinton adds pop of celebrity in homestretch o...</td>\n",
       "      <td>MIAMI (Reuters) - Democratic presidential cand...</td>\n",
       "      <td>politicsNews</td>\n",
       "      <td>October 29, 2016</td>\n",
       "      <td>1</td>\n",
       "    </tr>\n",
       "    <tr>\n",
       "      <th>21057</th>\n",
       "      <td>Russia's U.N. envoy calls for 'cool heads' on ...</td>\n",
       "      <td>UNITED NATIONS (Reuters) - Russia s U.N. Ambas...</td>\n",
       "      <td>worldnews</td>\n",
       "      <td>September 4, 2017</td>\n",
       "      <td>1</td>\n",
       "    </tr>\n",
       "  </tbody>\n",
       "</table>\n",
       "</div>"
      ],
      "text/plain": [
       "                                                   title  \\\n",
       "41183  WHY ARE DEMOCRATS Willing To Put Women Working...   \n",
       "20375  UK lawmakers back EU withdrawal bill at second...   \n",
       "40066  COMEY RESPONDS TO FIRING…What He Said Will Mak...   \n",
       "11407  Kazakhstan, Kyrgyzstan pledge to improve ties ...   \n",
       "34069  WOW! CATHOLIC PRIEST Delivers Message From Bis...   \n",
       "14410  Beijing orders safety checks after apartment b...   \n",
       "22912   Lawyers Trump Used To ‘Prove’ He Has No Russi...   \n",
       "34922  MILITARY COUP IN TURKEY: Obama Makes It Clear ...   \n",
       "7639   Clinton adds pop of celebrity in homestretch o...   \n",
       "21057  Russia's U.N. envoy calls for 'cool heads' on ...   \n",
       "\n",
       "                                                    text       subject  \\\n",
       "41183  New Wikileaks email shows Bill Clinton wanted ...     left-news   \n",
       "20375  LONDON (Reuters) - British lawmakers on Tuesda...     worldnews   \n",
       "40066  Since the moment word got out about the firing...     left-news   \n",
       "11407  ALMATY (Reuters) - The leaders of Kazakhstan a...     worldnews   \n",
       "34069   One Party Favors Open Borders, The Other Part...      politics   \n",
       "14410  BEIJING (Reuters) - A fire in a Beijing apartm...     worldnews   \n",
       "22912  It was the tweet that blew up the internet:BRE...          News   \n",
       "34922  Obama released a statement on his position reg...      politics   \n",
       "7639   MIAMI (Reuters) - Democratic presidential cand...  politicsNews   \n",
       "21057  UNITED NATIONS (Reuters) - Russia s U.N. Ambas...     worldnews   \n",
       "\n",
       "                      date  is_real  \n",
       "41183         Oct 21, 2016        0  \n",
       "20375  September 11, 2017         1  \n",
       "40066         May 10, 2017        0  \n",
       "11407   December 25, 2017         1  \n",
       "34069         Oct 23, 2016        0  \n",
       "14410   November 20, 2017         1  \n",
       "22912         May 12, 2017        0  \n",
       "34922         Jul 15, 2016        0  \n",
       "7639     October 29, 2016         1  \n",
       "21057   September 4, 2017         1  "
      ]
     },
     "execution_count": 6,
     "metadata": {},
     "output_type": "execute_result"
    }
   ],
   "source": [
    "data = Real.append(Fake)\n",
    "data.index = range(data.shape[0])\n",
    "data.sample(10)"
   ]
  },
  {
   "cell_type": "code",
   "execution_count": 7,
   "metadata": {},
   "outputs": [
    {
     "data": {
      "text/plain": [
       "title      0\n",
       "text       0\n",
       "subject    0\n",
       "date       0\n",
       "is_real    0\n",
       "dtype: int64"
      ]
     },
     "execution_count": 7,
     "metadata": {},
     "output_type": "execute_result"
    }
   ],
   "source": [
    "data.isnull().sum()"
   ]
  },
  {
   "cell_type": "code",
   "execution_count": 10,
   "metadata": {},
   "outputs": [],
   "source": [
    "from sklearn.feature_extraction.text import CountVectorizer\n",
    "from sklearn.feature_extraction.text import TfidfVectorizer\n",
    "from nltk.corpus import stopwords\n",
    "stop_words = stopwords.words('english')"
   ]
  },
  {
   "cell_type": "code",
   "execution_count": 9,
   "metadata": {},
   "outputs": [
    {
     "name": "stderr",
     "output_type": "stream",
     "text": [
      "[nltk_data] Downloading package stopwords to\n",
      "[nltk_data]     C:\\Users\\MY\\AppData\\Roaming\\nltk_data...\n",
      "[nltk_data]   Package stopwords is already up-to-date!\n"
     ]
    },
    {
     "data": {
      "text/plain": [
       "True"
      ]
     },
     "execution_count": 9,
     "metadata": {},
     "output_type": "execute_result"
    }
   ],
   "source": [
    "import nltk\n",
    "nltk.download('stopwords')"
   ]
  },
  {
   "cell_type": "code",
   "execution_count": 11,
   "metadata": {},
   "outputs": [
    {
     "name": "stderr",
     "output_type": "stream",
     "text": [
      "[nltk_data] Downloading package punkt to\n",
      "[nltk_data]     C:\\Users\\MY\\AppData\\Roaming\\nltk_data...\n",
      "[nltk_data]   Unzipping tokenizers\\punkt.zip.\n"
     ]
    },
    {
     "data": {
      "text/plain": [
       "True"
      ]
     },
     "execution_count": 11,
     "metadata": {},
     "output_type": "execute_result"
    }
   ],
   "source": [
    "nltk.download('punkt')"
   ]
  },
  {
   "cell_type": "code",
   "execution_count": 14,
   "metadata": {},
   "outputs": [],
   "source": [
    "import gensim\n",
    "from gensim.utils import simple_preprocess\n",
    "from gensim.parsing.preprocessing import STOPWORDS"
   ]
  },
  {
   "cell_type": "code",
   "execution_count": 19,
   "metadata": {},
   "outputs": [],
   "source": [
    "stop_words.extend(['from', 'subject', 're', 'edu', 'use'])\n",
    "\n",
    "def preprocess(text):\n",
    "    result = []\n",
    "    for i in gensim.utils.simple_preprocess(text):\n",
    "        if i not in gensim.parsing.preprocessing.STOPWORDS and len(i) > 2 and i not in stop_words:\n",
    "            result.append(i)\n",
    "    \n",
    "    return result   "
   ]
  },
  {
   "cell_type": "code",
   "execution_count": 23,
   "metadata": {},
   "outputs": [
    {
     "data": {
      "text/plain": [
       "0        [budget, fight, looms, republicans, flip, fisc...\n",
       "1        [military, accept, transgender, recruits, mond...\n",
       "2         [senior, republican, senator, let, mueller, job]\n",
       "3        [fbi, russia, probe, helped, australian, diplo...\n",
       "4        [trump, wants, postal, service, charge, amazon...\n",
       "                               ...                        \n",
       "44893    [mcpain, john, mccain, furious, iran, treated,...\n",
       "44894    [justice, yahoo, settles, mail, privacy, class...\n",
       "44895    [sunnistan, allied, safe, zone, plan, territor...\n",
       "44896    [blow, million, jazeera, america, finally, cal...\n",
       "44897    [navy, sailors, held, iranian, military, signs...\n",
       "Name: clean_title, Length: 44898, dtype: object"
      ]
     },
     "execution_count": 23,
     "metadata": {},
     "output_type": "execute_result"
    }
   ],
   "source": [
    "data['clean_title'] = data['title'].apply(preprocess)\n",
    "data['clean_title']"
   ]
  },
  {
   "cell_type": "code",
   "execution_count": 22,
   "metadata": {},
   "outputs": [
    {
     "data": {
      "text/plain": [
       "0        budget fight looms republicans flip fiscal script\n",
       "1        military accept transgender recruits monday pe...\n",
       "2                senior republican senator let mueller job\n",
       "3        fbi russia probe helped australian diplomat ti...\n",
       "4        trump wants postal service charge amazon shipm...\n",
       "                               ...                        \n",
       "44893      mcpain john mccain furious iran treated sailors\n",
       "44894    justice yahoo settles mail privacy class actio...\n",
       "44895    sunnistan allied safe zone plan territorial bo...\n",
       "44896     blow million jazeera america finally calls quits\n",
       "44897    navy sailors held iranian military signs neoco...\n",
       "Name: cleaned_joined_title, Length: 44898, dtype: object"
      ]
     },
     "execution_count": 22,
     "metadata": {},
     "output_type": "execute_result"
    }
   ],
   "source": [
    "data['cleaned_joined_title'] = data['clean_title'].apply(lambda x: ' '.join(x))\n",
    "data['cleaned_joined_title']"
   ]
  },
  {
   "cell_type": "code",
   "execution_count": 24,
   "metadata": {},
   "outputs": [],
   "source": [
    "from nltk.sentiment.vader import SentimentIntensityAnalyzer\n",
    "from nltk.sentiment.vader import SentimentIntensityAnalyzer as sid"
   ]
  },
  {
   "cell_type": "code",
   "execution_count": 26,
   "metadata": {},
   "outputs": [
    {
     "name": "stderr",
     "output_type": "stream",
     "text": [
      "[nltk_data] Downloading package vader_lexicon to\n",
      "[nltk_data]     C:\\Users\\MY\\AppData\\Roaming\\nltk_data...\n"
     ]
    },
    {
     "data": {
      "text/plain": [
       "True"
      ]
     },
     "execution_count": 26,
     "metadata": {},
     "output_type": "execute_result"
    }
   ],
   "source": [
    "import nltk\n",
    "nltk.download('vader_lexicon')"
   ]
  },
  {
   "cell_type": "code",
   "execution_count": 27,
   "metadata": {},
   "outputs": [],
   "source": [
    "sia = sid()"
   ]
  },
  {
   "cell_type": "code",
   "execution_count": 28,
   "metadata": {},
   "outputs": [
    {
     "data": {
      "text/plain": [
       "{'neg': 0.0, 'neu': 0.0, 'pos': 0.0, 'compound': 0.0}"
      ]
     },
     "execution_count": 28,
     "metadata": {},
     "output_type": "execute_result"
    }
   ],
   "source": [
    "sia.polarity_scores('title'[0])"
   ]
  },
  {
   "cell_type": "code",
   "execution_count": 29,
   "metadata": {},
   "outputs": [],
   "source": [
    "data['scores'] = data['cleaned_joined_title'].apply(lambda cleaned_joined_title: sia.polarity_scores(cleaned_joined_title))"
   ]
  },
  {
   "cell_type": "code",
   "execution_count": 30,
   "metadata": {},
   "outputs": [],
   "source": [
    "data['compound'] = data['scores'].apply(lambda scores_dict: scores_dict['compound'])"
   ]
  },
  {
   "cell_type": "code",
   "execution_count": 34,
   "metadata": {},
   "outputs": [],
   "source": [
    "data['sentiment'] = data['compound'].apply(lambda c: 'pos' if c > 0.25 else( 'neg' if c < -0.25  else 'nut'))"
   ]
  },
  {
   "cell_type": "code",
   "execution_count": 35,
   "metadata": {},
   "outputs": [],
   "source": [
    "data_senti = data[['title', 'date', 'is_real', 'cleaned_joined_title', 'scores', 'compound', 'sentiment']]"
   ]
  },
  {
   "cell_type": "code",
   "execution_count": 36,
   "metadata": {},
   "outputs": [
    {
     "data": {
      "text/html": [
       "<div>\n",
       "<style scoped>\n",
       "    .dataframe tbody tr th:only-of-type {\n",
       "        vertical-align: middle;\n",
       "    }\n",
       "\n",
       "    .dataframe tbody tr th {\n",
       "        vertical-align: top;\n",
       "    }\n",
       "\n",
       "    .dataframe thead th {\n",
       "        text-align: right;\n",
       "    }\n",
       "</style>\n",
       "<table border=\"1\" class=\"dataframe\">\n",
       "  <thead>\n",
       "    <tr style=\"text-align: right;\">\n",
       "      <th></th>\n",
       "      <th>title</th>\n",
       "      <th>date</th>\n",
       "      <th>is_real</th>\n",
       "      <th>cleaned_joined_title</th>\n",
       "      <th>scores</th>\n",
       "      <th>compound</th>\n",
       "      <th>sentiment</th>\n",
       "    </tr>\n",
       "  </thead>\n",
       "  <tbody>\n",
       "    <tr>\n",
       "      <th>0</th>\n",
       "      <td>As U.S. budget fight looms, Republicans flip t...</td>\n",
       "      <td>December 31, 2017</td>\n",
       "      <td>1</td>\n",
       "      <td>budget fight looms republicans flip fiscal script</td>\n",
       "      <td>{'neg': 0.457, 'neu': 0.543, 'pos': 0.0, 'comp...</td>\n",
       "      <td>-0.4939</td>\n",
       "      <td>neg</td>\n",
       "    </tr>\n",
       "    <tr>\n",
       "      <th>1</th>\n",
       "      <td>U.S. military to accept transgender recruits o...</td>\n",
       "      <td>December 29, 2017</td>\n",
       "      <td>1</td>\n",
       "      <td>military accept transgender recruits monday pe...</td>\n",
       "      <td>{'neg': 0.0, 'neu': 0.658, 'pos': 0.342, 'comp...</td>\n",
       "      <td>0.3818</td>\n",
       "      <td>pos</td>\n",
       "    </tr>\n",
       "    <tr>\n",
       "      <th>2</th>\n",
       "      <td>Senior U.S. Republican senator: 'Let Mr. Muell...</td>\n",
       "      <td>December 31, 2017</td>\n",
       "      <td>1</td>\n",
       "      <td>senior republican senator let mueller job</td>\n",
       "      <td>{'neg': 0.0, 'neu': 1.0, 'pos': 0.0, 'compound...</td>\n",
       "      <td>0.0000</td>\n",
       "      <td>nut</td>\n",
       "    </tr>\n",
       "    <tr>\n",
       "      <th>3</th>\n",
       "      <td>FBI Russia probe helped by Australian diplomat...</td>\n",
       "      <td>December 30, 2017</td>\n",
       "      <td>1</td>\n",
       "      <td>fbi russia probe helped australian diplomat ti...</td>\n",
       "      <td>{'neg': 0.0, 'neu': 1.0, 'pos': 0.0, 'compound...</td>\n",
       "      <td>0.0000</td>\n",
       "      <td>nut</td>\n",
       "    </tr>\n",
       "    <tr>\n",
       "      <th>4</th>\n",
       "      <td>Trump wants Postal Service to charge 'much mor...</td>\n",
       "      <td>December 29, 2017</td>\n",
       "      <td>1</td>\n",
       "      <td>trump wants postal service charge amazon shipm...</td>\n",
       "      <td>{'neg': 0.0, 'neu': 0.779, 'pos': 0.221, 'comp...</td>\n",
       "      <td>0.1779</td>\n",
       "      <td>nut</td>\n",
       "    </tr>\n",
       "  </tbody>\n",
       "</table>\n",
       "</div>"
      ],
      "text/plain": [
       "                                               title                date  \\\n",
       "0  As U.S. budget fight looms, Republicans flip t...  December 31, 2017    \n",
       "1  U.S. military to accept transgender recruits o...  December 29, 2017    \n",
       "2  Senior U.S. Republican senator: 'Let Mr. Muell...  December 31, 2017    \n",
       "3  FBI Russia probe helped by Australian diplomat...  December 30, 2017    \n",
       "4  Trump wants Postal Service to charge 'much mor...  December 29, 2017    \n",
       "\n",
       "   is_real                               cleaned_joined_title  \\\n",
       "0        1  budget fight looms republicans flip fiscal script   \n",
       "1        1  military accept transgender recruits monday pe...   \n",
       "2        1          senior republican senator let mueller job   \n",
       "3        1  fbi russia probe helped australian diplomat ti...   \n",
       "4        1  trump wants postal service charge amazon shipm...   \n",
       "\n",
       "                                              scores  compound sentiment  \n",
       "0  {'neg': 0.457, 'neu': 0.543, 'pos': 0.0, 'comp...   -0.4939       neg  \n",
       "1  {'neg': 0.0, 'neu': 0.658, 'pos': 0.342, 'comp...    0.3818       pos  \n",
       "2  {'neg': 0.0, 'neu': 1.0, 'pos': 0.0, 'compound...    0.0000       nut  \n",
       "3  {'neg': 0.0, 'neu': 1.0, 'pos': 0.0, 'compound...    0.0000       nut  \n",
       "4  {'neg': 0.0, 'neu': 0.779, 'pos': 0.221, 'comp...    0.1779       nut  "
      ]
     },
     "execution_count": 36,
     "metadata": {},
     "output_type": "execute_result"
    }
   ],
   "source": [
    "data_senti.head()"
   ]
  }
 ],
 "metadata": {
  "kernelspec": {
   "display_name": "Python 3",
   "language": "python",
   "name": "python3"
  },
  "language_info": {
   "codemirror_mode": {
    "name": "ipython",
    "version": 3
   },
   "file_extension": ".py",
   "mimetype": "text/x-python",
   "name": "python",
   "nbconvert_exporter": "python",
   "pygments_lexer": "ipython3",
   "version": "3.8.5"
  }
 },
 "nbformat": 4,
 "nbformat_minor": 4
}
